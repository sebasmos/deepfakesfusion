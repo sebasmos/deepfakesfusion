{
 "cells": [
  {
   "cell_type": "markdown",
   "id": "figured-complex",
   "metadata": {
    "id": "figured-complex"
   },
   "source": [
    "# Compressed spectrum features [2]"
   ]
  },
  {
   "cell_type": "code",
   "execution_count": 41,
   "id": "BjaLcvFDDhBL",
   "metadata": {
    "colab": {
     "base_uri": "https://localhost:8080/"
    },
    "executionInfo": {
     "elapsed": 782,
     "status": "ok",
     "timestamp": 1620864100285,
     "user": {
      "displayName": "Sebastian Andres Cajas Ordonez",
      "photoUrl": "https://lh3.googleusercontent.com/a-/AOh14GhGDPGp9NmcvOHA91aBmMKDsRZhunR17mA_5A-qLg=s64",
      "userId": "00182127315680463116"
     },
     "user_tz": -60
    },
    "id": "BjaLcvFDDhBL",
    "outputId": "58a9c48a-5ef8-453c-cd11-d47ed3e0a7e1"
   },
   "outputs": [
    {
     "name": "stdout",
     "output_type": "stream",
     "text": [
      "Drive already mounted at /content/drive; to attempt to forcibly remount, call drive.mount(\"/content/drive\", force_remount=True).\n"
     ]
    }
   ],
   "source": [
    "from google.colab import drive\n",
    "drive.mount('/content/drive')"
   ]
  },
  {
   "cell_type": "code",
   "execution_count": 42,
   "id": "abstract-tiffany",
   "metadata": {
    "executionInfo": {
     "elapsed": 1079,
     "status": "ok",
     "timestamp": 1620864102899,
     "user": {
      "displayName": "Sebastian Andres Cajas Ordonez",
      "photoUrl": "https://lh3.googleusercontent.com/a-/AOh14GhGDPGp9NmcvOHA91aBmMKDsRZhunR17mA_5A-qLg=s64",
      "userId": "00182127315680463116"
     },
     "user_tz": -60
    },
    "id": "abstract-tiffany"
   },
   "outputs": [],
   "source": [
    "import numpy as np\n",
    "import matplotlib.pyplot as plt\n",
    "import os\n",
    "import cv2\n",
    "import random\n",
    "import pandas as pd\n",
    "from scipy import stats\n",
    "import glob\n",
    "import pickle\n",
    "from scipy.interpolate import griddata\n",
    "import numpy as np\n",
    "import pandas as pd\n",
    "import matplotlib.pyplot as plt\n",
    "import os\n",
    "import cv2\n",
    "import dlib\n",
    "\n",
    "from google.colab import drive\n",
    "from skimage.morphology import convex_hull_image\n",
    "from sklearn.svm import SVC\n",
    "from sklearn.metrics import accuracy_score\n",
    "from sklearn.metrics import roc_auc_score\n",
    "\n",
    "from sklearn.neural_network import MLPClassifier\n",
    "def azimuthalAverage(image, center=None):\n",
    "    \"\"\"\n",
    "    Calculate the azimuthally averaged radial profile.\n",
    "    image - The 2D image\n",
    "    center - The [x,y] pixel coordinates used as the center. The default is \n",
    "             None, which then uses the center of the image (including \n",
    "             fracitonal pixels).\n",
    "    \n",
    "    \"\"\"\n",
    "    # Calculate the indices from the image\n",
    "    y, x = np.indices(image.shape)\n",
    "\n",
    "    if not center:\n",
    "        center = np.array([(x.max()-x.min())/2.0, (y.max()-y.min())/2.0])\n",
    "\n",
    "    r = np.hypot(x - center[0], y - center[1])\n",
    "\n",
    "    # Get sorted radii\n",
    "    ind = np.argsort(r.flat)\n",
    "    r_sorted = r.flat[ind]\n",
    "    i_sorted = image.flat[ind]\n",
    "\n",
    "    # Get the integer part of the radii (bin size = 1)\n",
    "    r_int = r_sorted.astype(int)\n",
    "\n",
    "    # Find all pixels that fall within each radial bin.\n",
    "    deltar = r_int[1:] - r_int[:-1]  # Assumes all radii represented\n",
    "    rind = np.where(deltar)[0]       # location of changed radius\n",
    "    nr = rind[1:] - rind[:-1]        # number of radius bin\n",
    "    \n",
    "    # Cumulative sum to figure out sums for each radius bin\n",
    "    csim = np.cumsum(i_sorted, dtype=float)\n",
    "    tbin = csim[rind[1:]] - csim[rind[:-1]]\n",
    "\n",
    "    radial_prof = tbin / nr\n",
    "    return radial_prof"
   ]
  },
  {
   "cell_type": "code",
   "execution_count": 43,
   "id": "eBcmifeEIZ_O",
   "metadata": {
    "executionInfo": {
     "elapsed": 2748,
     "status": "ok",
     "timestamp": 1620864107166,
     "user": {
      "displayName": "Sebastian Andres Cajas Ordonez",
      "photoUrl": "https://lh3.googleusercontent.com/a-/AOh14GhGDPGp9NmcvOHA91aBmMKDsRZhunR17mA_5A-qLg=s64",
      "userId": "00182127315680463116"
     },
     "user_tz": -60
    },
    "id": "eBcmifeEIZ_O"
   },
   "outputs": [],
   "source": [
    "def load_facedetector():\n",
    "    \"\"\"Loads dlib face and landmark detector.\"\"\"\n",
    "    root_dir = \"/content/drive/MyDrive/Colab Notebooks/Deep Fake - PDBR/Face warp artifacts experiment/dlib_model\"\n",
    "    if not os.path.isfile(root_dir+'/shape_predictor_68_face_landmarks.dat'):\n",
    "        print ('Could not find shape_predictor_68_face_landmarks.dat.')\n",
    "        exit(-1)\n",
    "    face_detector = dlib.get_frontal_face_detector()\n",
    "    sp68 = dlib.shape_predictor(root_dir+'/shape_predictor_68_face_landmarks.dat')\n",
    "\n",
    "    return face_detector, sp68\n",
    "\n",
    "face_detector, sp68 = load_facedetector()"
   ]
  },
  {
   "cell_type": "code",
   "execution_count": 44,
   "id": "93K9clHLm3g0",
   "metadata": {
    "executionInfo": {
     "elapsed": 896,
     "status": "ok",
     "timestamp": 1620864107168,
     "user": {
      "displayName": "Sebastian Andres Cajas Ordonez",
      "photoUrl": "https://lh3.googleusercontent.com/a-/AOh14GhGDPGp9NmcvOHA91aBmMKDsRZhunR17mA_5A-qLg=s64",
      "userId": "00182127315680463116"
     },
     "user_tz": -60
    },
    "id": "93K9clHLm3g0"
   },
   "outputs": [],
   "source": [
    "def shape_to_np(shape):\n",
    "    number_of_points = shape.num_parts\n",
    "    points = np.zeros((number_of_points, 2), dtype=np.int32)\n",
    "    for i in range(0, number_of_points):\n",
    "        points[i] = (shape.part(i).x, shape.part(i).y)\n",
    "\n",
    "    return points\n",
    "def get_crops_landmarks(facedetector, sp68, img, roi_delta=0.0, min_score=0.0):\n",
    "    \"\"\"Detects faces and landmarks in image, crops image to face region.\"\"\"\n",
    "    face_crops = []\n",
    "    final_landmarks = []\n",
    "\n",
    "    dets, scores, idx = facedetector.run(img, 0, 0)\n",
    "\n",
    "    num_faces = len(dets)\n",
    "    if num_faces == 0:\n",
    "        return face_crops, final_landmarks\n",
    "\n",
    "    # extract especially frontal faces\n",
    "    if min_score > 0.0:\n",
    "        dets_new = []\n",
    "        for i in range(len(dets)):\n",
    "            if scores[i] > min_score:\n",
    "                dets_new.append(dets[i])\n",
    "        dets = dets_new\n",
    "\n",
    "    # detect landmarks and transform to np array\n",
    "    landmarks = []\n",
    "    for detection in dets:\n",
    "        sp_result = sp68(img, detection)\n",
    "        landmarks.append(shape_to_np(sp_result))\n",
    "\n",
    "    # crop faces\n",
    "    for num in range(len(dets)):\n",
    "        # copy landmarks and get crop\n",
    "        face_roi = dets[num]\n",
    "        face_roi = dlib.rectangle(max(0, face_roi.left()), max(0, face_roi.top()), max(0, face_roi.right()),\n",
    "                                 max(0, face_roi.bottom()))\n",
    "\n",
    "        # extend face ROI if needed\n",
    "        delta_percent = roi_delta\n",
    "        height = face_roi.bottom() - face_roi.top()\n",
    "        delta = int(delta_percent * height)\n",
    "        extended_roi_top = np.clip(face_roi.top() - delta, 0, img.shape[0])\n",
    "        extended_roi_bottom = np.clip(face_roi.bottom() + delta, 0, img.shape[0])\n",
    "        extended_roi_left = np.clip(face_roi.left() - delta, 0, img.shape[1])\n",
    "        extended_roi_right = np.clip(face_roi.right() + delta, 0, img.shape[1])\n",
    "        cropped_face = img[extended_roi_top:extended_roi_bottom, extended_roi_left:extended_roi_right, :]\n",
    "\n",
    "        face_landmarks = landmarks[num].copy()\n",
    "\n",
    "        face_landmarks[:, 0] = face_landmarks[:, 0] - extended_roi_left\n",
    "        face_landmarks[:, 1] = face_landmarks[:, 1] - extended_roi_top\n",
    "\n",
    "        final_landmarks.append(face_landmarks)\n",
    "        face_crops.append(cropped_face)\n",
    "\n",
    "    return face_crops, final_landmarks"
   ]
  },
  {
   "cell_type": "code",
   "execution_count": null,
   "id": "IwzXMKsAuusW",
   "metadata": {
    "colab": {
     "base_uri": "https://localhost:8080/"
    },
    "executionInfo": {
     "elapsed": 4147,
     "status": "ok",
     "timestamp": 1620861773004,
     "user": {
      "displayName": "Sebastian Andres Cajas Ordonez",
      "photoUrl": "https://lh3.googleusercontent.com/a-/AOh14GhGDPGp9NmcvOHA91aBmMKDsRZhunR17mA_5A-qLg=s64",
      "userId": "00182127315680463116"
     },
     "user_tz": -60
    },
    "id": "IwzXMKsAuusW",
    "outputId": "2bd0cedc-d33d-496e-91b1-06b7c891cce4"
   },
   "outputs": [
    {
     "name": "stdout",
     "output_type": "stream",
     "text": [
      "/content/drive/.shortcut-targets-by-id/1hMajpu3lOFIQtcgOnINnNkd6M7Xf_-Tu/CODE/TASK_1\n"
     ]
    }
   ],
   "source": [
    "% cd /content/drive/MyDrive/Colab Notebooks/Deep Fake - PDBR/CODE/TASK_1"
   ]
  },
  {
   "cell_type": "code",
   "execution_count": 45,
   "id": "xkczkyCmIdC0",
   "metadata": {
    "colab": {
     "base_uri": "https://localhost:8080/"
    },
    "executionInfo": {
     "elapsed": 39853,
     "status": "ok",
     "timestamp": 1620864148693,
     "user": {
      "displayName": "Sebastian Andres Cajas Ordonez",
      "photoUrl": "https://lh3.googleusercontent.com/a-/AOh14GhGDPGp9NmcvOHA91aBmMKDsRZhunR17mA_5A-qLg=s64",
      "userId": "00182127315680463116"
     },
     "user_tz": -60
    },
    "id": "xkczkyCmIdC0",
    "outputId": "0461d21d-3c09-474d-dbd9-4c1d695fda2d"
   },
   "outputs": [
    {
     "name": "stderr",
     "output_type": "stream",
     "text": [
      "/usr/local/lib/python3.7/dist-packages/ipykernel_launcher.py:41: VisibleDeprecationWarning: Creating an ndarray from ragged nested sequences (which is a list-or-tuple of lists-or-tuples-or ndarrays with different lengths or shapes) is deprecated. If you meant to do this, you must specify 'dtype=object' when creating the ndarray\n",
      "/usr/local/lib/python3.7/dist-packages/ipykernel_launcher.py:103: VisibleDeprecationWarning: Creating an ndarray from ragged nested sequences (which is a list-or-tuple of lists-or-tuples-or ndarrays with different lengths or shapes) is deprecated. If you meant to do this, you must specify 'dtype=object' when creating the ndarray\n"
     ]
    },
    {
     "name": "stdout",
     "output_type": "stream",
     "text": [
      "DATA Saved\n"
     ]
    }
   ],
   "source": [
    "import cv2\n",
    "import numpy as np\n",
    "import os\n",
    "import glob\n",
    "from matplotlib import pyplot as plt\n",
    "import pickle\n",
    "from scipy.interpolate import griddata\n",
    "\n",
    "data= {}\n",
    "epsilon = 1e-8\n",
    "N = 300\n",
    "y = []\n",
    "error = []\n",
    "\n",
    "number_iter = 380\n",
    "\n",
    "psd1D_total = np.zeros([number_iter, N])\n",
    "label_total = np.zeros([number_iter])\n",
    "psd1D_org_mean = np.zeros(N)\n",
    "psd1D_org_std = np.zeros(N)\n",
    "\n",
    "\n",
    "cont = 0\n",
    "\n",
    "#fake data\n",
    "rootdir = '/content/drive/MyDrive/Colab Notebooks/Deep Fake - PDBR/data/Task_1_original/Task_1/development/fake'\n",
    "\n",
    "for subdir, dirs, files in os.walk(rootdir):\n",
    "    for file in files:        \n",
    "\n",
    "        filename = os.path.join(subdir, file)\n",
    "        \n",
    "        img2 = cv2.imread(filename,0)\n",
    "        #print(\"original: \",img2.shape)\n",
    "\n",
    "        img2 = cv2.cvtColor(img2, cv2.COLOR_BGR2RGB)\n",
    "        extend_roi = 0.0\n",
    "\n",
    "        face_crops, final_landmarks = get_crops_landmarks(face_detector, sp68, img2,\n",
    "                                                    roi_delta=extend_roi)\n",
    "        img2 = np.array(face_crops)\n",
    "        if len(img2.shape) < 4:\n",
    "          #print(\"no face detected\")\n",
    "          psd1D_total[cont,:] = 0             \n",
    "          label_total[cont] = 0\n",
    "          cont = cont+1\n",
    "          #print(psd1D_total[cont,:])\n",
    "          #discard_fake = discard_fake+1\n",
    "        elif len(img2.shape) == 4:\n",
    "          img2 = np.squeeze(img2)\n",
    "          img2 = img2[:,:,0]\n",
    "          #print(\"cropped: \",img2.shape)\n",
    "          \n",
    "          h = int(img2.shape[0]/3)\n",
    "          w = int(img2.shape[1]/3)\n",
    "          img2 = img2[h:-h,w:-w]\n",
    "          #print(img2.shape)\n",
    "          #plt.imshow(img)\n",
    "          f = np.fft.fft2(img2)\n",
    "          fshift = np.fft.fftshift(f)\n",
    "\n",
    "          magnitude_spectrum = 20*np.log(np.abs(fshift))\n",
    "          psd1D = azimuthalAverage(magnitude_spectrum)\n",
    "\n",
    "          # Calculate the azimuthally averaged 1D power spectrum\n",
    "          points = np.linspace(0,N,num=psd1D.size) # coordinates of a\n",
    "          xi = np.linspace(0,N,num=N) # coordinates for interpolation\n",
    "\n",
    "          interpolated = griddata(points,psd1D,xi,method='cubic')\n",
    "          interpolated /= interpolated[0]\n",
    "\n",
    "          psd1D_total[cont,:] = interpolated             \n",
    "          label_total[cont] = 0\n",
    "          cont+=1\n",
    "        if cont == number_iter:\n",
    "            break\n",
    "    if cont == number_iter:\n",
    "        break\n",
    "\n",
    "\n",
    "## real data\n",
    "psd1D_total2 = np.zeros([number_iter, N])\n",
    "label_total2 = np.zeros([number_iter])\n",
    "psd1D_org_mean2 = np.zeros(N)\n",
    "psd1D_org_std2 = np.zeros(N)\n",
    "\n",
    "cont = 0\n",
    "\n",
    "rootdir = '/content/drive/MyDrive/Colab Notebooks/Deep Fake - PDBR/data/Task_1_original/Task_1/development/real'\n",
    "\n",
    "for subdir, dirs, files in os.walk(rootdir):\n",
    "    for file in files:        \n",
    "\n",
    "        filename = os.path.join(subdir, file)\n",
    "        \n",
    "        img2 = cv2.imread(filename,0)\n",
    "        #print(\"original: \",img2.shape)\n",
    "\n",
    "        img2 = cv2.cvtColor(img2, cv2.COLOR_BGR2RGB)\n",
    "        extend_roi = 0.0\n",
    "        face_crops, final_landmarks = get_crops_landmarks(face_detector, sp68, img2,\n",
    "                                                    roi_delta=extend_roi)\n",
    "        img2 = np.array(face_crops)\n",
    "        #print(img2)\n",
    "        #print(filename)\n",
    "\n",
    "        if len(img2.shape) < 4:\n",
    "          #print(\"no face detected\")\n",
    "          psd1D_total2[cont,:] = 0             \n",
    "          label_total2[cont] = 0\n",
    "          cont = cont+1\n",
    "          #print(psd1D_total[cont,:])\n",
    "        elif len(img2.shape) == 4:\n",
    "          img2 = np.squeeze(img2)\n",
    "          img2 = img2[:,:,0]\n",
    "          #print(\"cropped: \",img2.shape)\n",
    "          \n",
    "          h = int(img2.shape[0]/3)\n",
    "          w = int(img2.shape[1]/3)\n",
    "          img2 = img2[h:-h,w:-w]\n",
    "          #print(img2.shape)\n",
    "          #plt.imshow(img)\n",
    "          f = np.fft.fft2(img2)\n",
    "          fshift = np.fft.fftshift(f)\n",
    "\n",
    "          magnitude_spectrum = 20*np.log(np.abs(fshift))\n",
    "          psd1D = azimuthalAverage(magnitude_spectrum)\n",
    "\n",
    "          # Calculate the azimuthally averaged 1D power spectrum\n",
    "          points = np.linspace(0,N,num=psd1D.size) # coordinates of a\n",
    "          xi = np.linspace(0,N,num=N) # coordinates for interpolation\n",
    "\n",
    "          interpolated = griddata(points,psd1D,xi,method='cubic')\n",
    "          interpolated /= interpolated[0]\n",
    "          # \n",
    "          psd1D_total2[cont,:] = interpolated             \n",
    "          label_total2[cont] = 1\n",
    "          cont+=1\n",
    "        if cont == number_iter:\n",
    "            break\n",
    "    if cont == number_iter:\n",
    "        break\n",
    "\n",
    "\n",
    "for x in range(N):\n",
    "    psd1D_org_mean2[x] = np.mean(psd1D_total2[:,x])\n",
    "    psd1D_org_std2[x]= np.std(psd1D_total2[:,x])\n",
    "\n",
    "\n",
    "y.append(psd1D_org_mean)\n",
    "y.append(psd1D_org_mean2)\n",
    "\n",
    "error.append(psd1D_org_std)\n",
    "error.append(psd1D_org_std2)\n",
    "\n",
    "psd1D_total_final2 = np.concatenate((psd1D_total,psd1D_total2), axis=0)\n",
    "label_total_final2 = np.concatenate((label_total,label_total2), axis=0)\n",
    "\n",
    "data[\"data\"] = psd1D_total_final2\n",
    "data[\"label\"] = label_total_final2\n",
    "\n",
    "output = open('training.pkl', 'wb')\n",
    "pickle.dump(data, output)\n",
    "output.close()\n",
    "\n",
    "print(\"DATA Saved\") \n",
    "\n"
   ]
  },
  {
   "cell_type": "code",
   "execution_count": 46,
   "id": "CgI7dqkcIgbs",
   "metadata": {
    "colab": {
     "base_uri": "https://localhost:8080/"
    },
    "executionInfo": {
     "elapsed": 46223,
     "status": "ok",
     "timestamp": 1620864160056,
     "user": {
      "displayName": "Sebastian Andres Cajas Ordonez",
      "photoUrl": "https://lh3.googleusercontent.com/a-/AOh14GhGDPGp9NmcvOHA91aBmMKDsRZhunR17mA_5A-qLg=s64",
      "userId": "00182127315680463116"
     },
     "user_tz": -60
    },
    "id": "CgI7dqkcIgbs",
    "outputId": "56e4a549-045a-4c1b-ecb8-7cc4e988b23b"
   },
   "outputs": [
    {
     "name": "stdout",
     "output_type": "stream",
     "text": [
      "DATA Saved\n",
      "Discarded eval real 9\n",
      "Discarded eval fake 0\n"
     ]
    }
   ],
   "source": [
    "data= {}\n",
    "epsilon = 1e-8\n",
    "N = 300\n",
    "y = []\n",
    "error = []\n",
    "\n",
    "\n",
    "discard_real = 0\n",
    "discard_fake = 0\n",
    "\n",
    "\n",
    "number_iter_real = 110\n",
    "number_iter_fake = 100\n",
    "\n",
    "psd1D_total = np.zeros([number_iter_fake, N])\n",
    "label_total = np.zeros([number_iter_fake])\n",
    "psd1D_org_mean = np.zeros(N)\n",
    "psd1D_org_std = np.zeros(N)\n",
    "\n",
    "cont = 0\n",
    "\n",
    "#fake data\n",
    "rootdir = '/content/drive/MyDrive/Colab Notebooks/Deep Fake - PDBR/data/Task_1_original/Task_1/evaluation/fake'\n",
    "\n",
    "for subdir, dirs, files in os.walk(rootdir):\n",
    "    for file in files:        \n",
    "\n",
    "        filename = os.path.join(subdir, file)\n",
    "        \n",
    "        img2 = cv2.imread(filename,0)\n",
    "        #print(\"original: \",img.shape)\n",
    "\n",
    "        img2 = cv2.cvtColor(img2, cv2.COLOR_BGR2RGB)\n",
    "        extend_roi = 0.0\n",
    "        face_crops, final_landmarks = get_crops_landmarks(face_detector, sp68, img2,\n",
    "                                                    roi_delta=extend_roi)\n",
    "        img2 = np.array(face_crops)\n",
    "        #print(filename)\n",
    "        if len(img2.shape) < 4:\n",
    "          #print(\"no face detected on fake\")\n",
    "          discard_fake = discard_fake +1\n",
    "          psd1D_total[cont,:] = 0             \n",
    "          label_total[cont] = 0\n",
    "          cont = cont+1 \n",
    "          #print(\"{}, {}\".format(cont,filename))   \n",
    "        elif len(img2.shape) == 4:\n",
    "          img = np.squeeze(img2)\n",
    "          img = img[:,:,0]\n",
    "          #print(\"cropped: \",img2.shape)\n",
    "          h = int(img.shape[0]/3)\n",
    "          w = int(img.shape[1]/3)\n",
    "          img = img[h:-h,w:-w]\n",
    "          f = np.fft.fft2(img)\n",
    "          fshift = np.fft.fftshift(f)\n",
    "\n",
    "          magnitude_spectrum = 20*np.log(np.abs(fshift))\n",
    "          psd1D = azimuthalAverage(magnitude_spectrum)\n",
    "\n",
    "          # Calculate the azimuthally averaged 1D power spectrum\n",
    "          points = np.linspace(0,N,num=psd1D.size) # coordinates of a\n",
    "          xi = np.linspace(0,N,num=N) # coordinates for interpolation\n",
    "\n",
    "          interpolated = griddata(points,psd1D,xi,method='cubic')\n",
    "          interpolated /= interpolated[0]\n",
    "\n",
    "          psd1D_total[cont,:] = interpolated             \n",
    "          label_total[cont] = 0\n",
    "          cont+=1\n",
    "        if cont == number_iter_fake:\n",
    "            break\n",
    "    if cont == number_iter_fake:\n",
    "        break\n",
    "\n",
    "## real data\n",
    "psd1D_total2 = np.zeros([number_iter_real, N])\n",
    "label_total2 = np.zeros([number_iter_real])\n",
    "psd1D_org_mean2 = np.zeros(N)\n",
    "psd1D_org_std2 = np.zeros(N)\n",
    "\n",
    "\n",
    "cont = 0\n",
    "rootdir2 = '/content/drive/MyDrive/Colab Notebooks/Deep Fake - PDBR/data/Task_1_original/Task_1/evaluation/real'\n",
    "aux = 0\n",
    "\n",
    "for subdir, dirs, files in os.walk(rootdir2):\n",
    "    for file in files:  \n",
    "\n",
    "        filename = os.path.join(subdir, file)\n",
    "        \n",
    "        img2 = cv2.imread(filename,0)\n",
    "        #print(\"original: \",img.shape)\n",
    "\n",
    "        img2 = cv2.cvtColor(img2, cv2.COLOR_BGR2RGB)\n",
    "        extend_roi = 0.0\n",
    "        face_crops, final_landmarks = get_crops_landmarks(face_detector, sp68, img2,\n",
    "                                                    roi_delta=extend_roi)\n",
    "        img2 = np.array(face_crops)\n",
    "        #print(img2.shape)\n",
    "        if len(img2.shape) < 4:\n",
    "          #print(\"no face detected on real\")\n",
    "          discard_real = discard_real+1\n",
    "          psd1D_total2[cont,:] = 0             \n",
    "          label_total2[cont] = 0\n",
    "          cont = cont+1\n",
    "          #print(\"{}, {}\".format(cont,filename))\n",
    "        elif len(img2.shape) == 4:\n",
    "          img = np.squeeze(img2)\n",
    "          img = img[:,:,0]\n",
    "          #print(\"cropped: \",img2.shape)\n",
    "          h = int(img.shape[0]/3)\n",
    "          w = int(img.shape[1]/3)\n",
    "          img = img[h:-h,w:-w]\n",
    "          f = np.fft.fft2(img)\n",
    "          fshift = np.fft.fftshift(f)\n",
    "\n",
    "          magnitude_spectrum = 20*np.log(np.abs(fshift))\n",
    "          psd1D = azimuthalAverage(magnitude_spectrum)\n",
    "\n",
    "          # Calculate the azimuthally averaged 1D power spectrum\n",
    "          points = np.linspace(0,N,num=psd1D.size) # coordinates of a\n",
    "          xi = np.linspace(0,N,num=N) # coordinates for interpolation\n",
    "\n",
    "          interpolated = griddata(points,psd1D,xi,method='cubic')\n",
    "          interpolated /= interpolated[0]\n",
    "\n",
    "          psd1D_total2[cont,:] = interpolated             \n",
    "          label_total2[cont] = 1\n",
    "          cont+=1\n",
    "        if cont == number_iter_real:\n",
    "            break\n",
    "    if cont == number_iter_real:\n",
    "        break\n",
    "\n",
    "for x in range(N):\n",
    "    psd1D_org_mean2[x] = np.mean(psd1D_total2[:,x])\n",
    "    psd1D_org_std2[x]= np.std(psd1D_total2[:,x])\n",
    "\n",
    "\n",
    "y.append(psd1D_org_mean)\n",
    "y.append(psd1D_org_mean2)\n",
    "\n",
    "error.append(psd1D_org_std)\n",
    "error.append(psd1D_org_std2)\n",
    "\n",
    "psd1D_total_final = np.concatenate((psd1D_total,psd1D_total2), axis=0)\n",
    "label_total_final = np.concatenate((label_total,label_total2), axis=0)\n",
    "\n",
    "data[\"data\"] = psd1D_total_final\n",
    "data[\"label\"] = label_total_final\n",
    "\n",
    "output = open('testing_t1.pkl', 'wb')\n",
    "pickle.dump(data, output)\n",
    "output.close()\n",
    "\n",
    "print(\"DATA Saved\") \n",
    "\n",
    "print('Discarded eval real', discard_real)\n",
    "print('Discarded eval fake', discard_fake)\n",
    "\n",
    "# 68 43 26 56 201 250\n",
    "# 44 45 46 47 48 49"
   ]
  },
  {
   "cell_type": "code",
   "execution_count": 72,
   "id": "Gwrf-eshIiJV",
   "metadata": {
    "colab": {
     "base_uri": "https://localhost:8080/",
     "height": 282
    },
    "executionInfo": {
     "elapsed": 620,
     "status": "ok",
     "timestamp": 1620864628748,
     "user": {
      "displayName": "Sebastian Andres Cajas Ordonez",
      "photoUrl": "https://lh3.googleusercontent.com/a-/AOh14GhGDPGp9NmcvOHA91aBmMKDsRZhunR17mA_5A-qLg=s64",
      "userId": "00182127315680463116"
     },
     "user_tz": -60
    },
    "id": "Gwrf-eshIiJV",
    "outputId": "d0161cd7-55e7-4283-bf36-09ef93fe1767"
   },
   "outputs": [
    {
     "name": "stdout",
     "output_type": "stream",
     "text": [
      "(760,)\n"
     ]
    },
    {
     "data": {
      "image/png": "[encoded data removed]",
      "text/plain": [
       "<Figure size 432x288 with 1 Axes>"
      ]
     },
     "metadata": {
      "needs_background": "light",
      "tags": []
     },
     "output_type": "display_data"
    }
   ],
   "source": [
    "import numpy as np\n",
    "import matplotlib.pyplot as plt\n",
    "import pickle\n",
    "\n",
    "# load feature file\n",
    "pkl_file = open('training.pkl', 'rb')\n",
    "data = pickle.load(pkl_file)\n",
    "pkl_file.close()\n",
    "X = data[\"data\"]\n",
    "y = data[\"label\"]\n",
    "\n",
    "plt.plot(y)\n",
    "X.shape[0]\n",
    "print(y.shape)"
   ]
  },
  {
   "cell_type": "code",
   "execution_count": 73,
   "id": "HWMpeidHIjbH",
   "metadata": {
    "colab": {
     "base_uri": "https://localhost:8080/",
     "height": 398
    },
    "executionInfo": {
     "elapsed": 994,
     "status": "ok",
     "timestamp": 1620864635287,
     "user": {
      "displayName": "Sebastian Andres Cajas Ordonez",
      "photoUrl": "https://lh3.googleusercontent.com/a-/AOh14GhGDPGp9NmcvOHA91aBmMKDsRZhunR17mA_5A-qLg=s64",
      "userId": "00182127315680463116"
     },
     "user_tz": -60
    },
    "id": "HWMpeidHIjbH",
    "outputId": "7d90c02f-2245-4163-ec09-0417868c241a"
   },
   "outputs": [
    {
     "name": "stdout",
     "output_type": "stream",
     "text": [
      "(760, 300)\n",
      "(760,)\n"
     ]
    },
    {
     "name": "stderr",
     "output_type": "stream",
     "text": [
      "/usr/local/lib/python3.7/dist-packages/seaborn/distributions.py:306: UserWarning: Dataset has 0 variance; skipping density estimate.\n",
      "  warnings.warn(msg, UserWarning)\n",
      "/usr/local/lib/python3.7/dist-packages/seaborn/distributions.py:306: UserWarning: Dataset has 0 variance; skipping density estimate.\n",
      "  warnings.warn(msg, UserWarning)\n"
     ]
    },
    {
     "data": {
      "text/plain": [
       "<matplotlib.axes._subplots.AxesSubplot at 0x7f2bad590d50>"
      ]
     },
     "execution_count": 73,
     "metadata": {
      "tags": []
     },
     "output_type": "execute_result"
    },
    {
     "data": {
      "image/png": "[encoded data removed]",
      "text/plain": [
       "<Figure size 432x288 with 1 Axes>"
      ]
     },
     "metadata": {
      "needs_background": "light",
      "tags": []
     },
     "output_type": "display_data"
    }
   ],
   "source": [
    "\n",
    "print(X.shape)\n",
    "print(y.shape)\n",
    "\n",
    "x_train = pd.DataFrame(X)\n",
    "y_train = pd.DataFrame(y)\n",
    "df_Train = []\n",
    "df_Train = x_train\n",
    "df_Train['label'] = y_train\n",
    "\n",
    "df_Train.groupby(\"label\").count()\n",
    "\n",
    "import seaborn as sns\n",
    "\n",
    "sns.histplot(data = df_Train, x=\"label\",hue=\"label\", color=\"skyblue\",label =\"labels\",kde=True)"
   ]
  },
  {
   "cell_type": "code",
   "execution_count": null,
   "id": "Qfr4eXl3Ikpv",
   "metadata": {
    "colab": {
     "base_uri": "https://localhost:8080/"
    },
    "executionInfo": {
     "elapsed": 54396,
     "status": "ok",
     "timestamp": 1620861823497,
     "user": {
      "displayName": "Sebastian Andres Cajas Ordonez",
      "photoUrl": "https://lh3.googleusercontent.com/a-/AOh14GhGDPGp9NmcvOHA91aBmMKDsRZhunR17mA_5A-qLg=s64",
      "userId": "00182127315680463116"
     },
     "user_tz": -60
    },
    "id": "Qfr4eXl3Ikpv",
    "outputId": "a0d2cd8f-e33a-4856-ea32-ae5dcadfc553"
   },
   "outputs": [
    {
     "data": {
      "text/html": [
       "<div>\n",
       "<style scoped>\n",
       "    .dataframe tbody tr th:only-of-type {\n",
       "        vertical-align: middle;\n",
       "    }\n",
       "\n",
       "    .dataframe tbody tr th {\n",
       "        vertical-align: top;\n",
       "    }\n",
       "\n",
       "    .dataframe thead th {\n",
       "        text-align: right;\n",
       "    }\n",
       "</style>\n",
       "<table border=\"1\" class=\"dataframe\">\n",
       "  <thead>\n",
       "    <tr style=\"text-align: right;\">\n",
       "      <th></th>\n",
       "      <th>0</th>\n",
       "      <th>1</th>\n",
       "      <th>2</th>\n",
       "      <th>3</th>\n",
       "      <th>4</th>\n",
       "      <th>5</th>\n",
       "      <th>6</th>\n",
       "      <th>7</th>\n",
       "      <th>8</th>\n",
       "      <th>9</th>\n",
       "      <th>10</th>\n",
       "      <th>11</th>\n",
       "      <th>12</th>\n",
       "      <th>13</th>\n",
       "      <th>14</th>\n",
       "      <th>15</th>\n",
       "      <th>16</th>\n",
       "      <th>17</th>\n",
       "      <th>18</th>\n",
       "      <th>19</th>\n",
       "      <th>20</th>\n",
       "      <th>21</th>\n",
       "      <th>22</th>\n",
       "      <th>23</th>\n",
       "      <th>24</th>\n",
       "      <th>25</th>\n",
       "      <th>26</th>\n",
       "      <th>27</th>\n",
       "      <th>28</th>\n",
       "      <th>29</th>\n",
       "      <th>30</th>\n",
       "      <th>31</th>\n",
       "      <th>32</th>\n",
       "      <th>33</th>\n",
       "      <th>34</th>\n",
       "      <th>35</th>\n",
       "      <th>36</th>\n",
       "      <th>37</th>\n",
       "      <th>38</th>\n",
       "      <th>39</th>\n",
       "      <th>...</th>\n",
       "      <th>260</th>\n",
       "      <th>261</th>\n",
       "      <th>262</th>\n",
       "      <th>263</th>\n",
       "      <th>264</th>\n",
       "      <th>265</th>\n",
       "      <th>266</th>\n",
       "      <th>267</th>\n",
       "      <th>268</th>\n",
       "      <th>269</th>\n",
       "      <th>270</th>\n",
       "      <th>271</th>\n",
       "      <th>272</th>\n",
       "      <th>273</th>\n",
       "      <th>274</th>\n",
       "      <th>275</th>\n",
       "      <th>276</th>\n",
       "      <th>277</th>\n",
       "      <th>278</th>\n",
       "      <th>279</th>\n",
       "      <th>280</th>\n",
       "      <th>281</th>\n",
       "      <th>282</th>\n",
       "      <th>283</th>\n",
       "      <th>284</th>\n",
       "      <th>285</th>\n",
       "      <th>286</th>\n",
       "      <th>287</th>\n",
       "      <th>288</th>\n",
       "      <th>289</th>\n",
       "      <th>290</th>\n",
       "      <th>291</th>\n",
       "      <th>292</th>\n",
       "      <th>293</th>\n",
       "      <th>294</th>\n",
       "      <th>295</th>\n",
       "      <th>296</th>\n",
       "      <th>297</th>\n",
       "      <th>298</th>\n",
       "      <th>299</th>\n",
       "    </tr>\n",
       "    <tr>\n",
       "      <th>label</th>\n",
       "      <th></th>\n",
       "      <th></th>\n",
       "      <th></th>\n",
       "      <th></th>\n",
       "      <th></th>\n",
       "      <th></th>\n",
       "      <th></th>\n",
       "      <th></th>\n",
       "      <th></th>\n",
       "      <th></th>\n",
       "      <th></th>\n",
       "      <th></th>\n",
       "      <th></th>\n",
       "      <th></th>\n",
       "      <th></th>\n",
       "      <th></th>\n",
       "      <th></th>\n",
       "      <th></th>\n",
       "      <th></th>\n",
       "      <th></th>\n",
       "      <th></th>\n",
       "      <th></th>\n",
       "      <th></th>\n",
       "      <th></th>\n",
       "      <th></th>\n",
       "      <th></th>\n",
       "      <th></th>\n",
       "      <th></th>\n",
       "      <th></th>\n",
       "      <th></th>\n",
       "      <th></th>\n",
       "      <th></th>\n",
       "      <th></th>\n",
       "      <th></th>\n",
       "      <th></th>\n",
       "      <th></th>\n",
       "      <th></th>\n",
       "      <th></th>\n",
       "      <th></th>\n",
       "      <th></th>\n",
       "      <th></th>\n",
       "      <th></th>\n",
       "      <th></th>\n",
       "      <th></th>\n",
       "      <th></th>\n",
       "      <th></th>\n",
       "      <th></th>\n",
       "      <th></th>\n",
       "      <th></th>\n",
       "      <th></th>\n",
       "      <th></th>\n",
       "      <th></th>\n",
       "      <th></th>\n",
       "      <th></th>\n",
       "      <th></th>\n",
       "      <th></th>\n",
       "      <th></th>\n",
       "      <th></th>\n",
       "      <th></th>\n",
       "      <th></th>\n",
       "      <th></th>\n",
       "      <th></th>\n",
       "      <th></th>\n",
       "      <th></th>\n",
       "      <th></th>\n",
       "      <th></th>\n",
       "      <th></th>\n",
       "      <th></th>\n",
       "      <th></th>\n",
       "      <th></th>\n",
       "      <th></th>\n",
       "      <th></th>\n",
       "      <th></th>\n",
       "      <th></th>\n",
       "      <th></th>\n",
       "      <th></th>\n",
       "      <th></th>\n",
       "      <th></th>\n",
       "      <th></th>\n",
       "      <th></th>\n",
       "      <th></th>\n",
       "    </tr>\n",
       "  </thead>\n",
       "  <tbody>\n",
       "    <tr>\n",
       "      <th>0.0</th>\n",
       "      <td>389</td>\n",
       "      <td>389</td>\n",
       "      <td>389</td>\n",
       "      <td>389</td>\n",
       "      <td>389</td>\n",
       "      <td>389</td>\n",
       "      <td>389</td>\n",
       "      <td>389</td>\n",
       "      <td>389</td>\n",
       "      <td>389</td>\n",
       "      <td>389</td>\n",
       "      <td>389</td>\n",
       "      <td>389</td>\n",
       "      <td>389</td>\n",
       "      <td>389</td>\n",
       "      <td>389</td>\n",
       "      <td>389</td>\n",
       "      <td>389</td>\n",
       "      <td>389</td>\n",
       "      <td>389</td>\n",
       "      <td>389</td>\n",
       "      <td>389</td>\n",
       "      <td>389</td>\n",
       "      <td>389</td>\n",
       "      <td>389</td>\n",
       "      <td>389</td>\n",
       "      <td>389</td>\n",
       "      <td>389</td>\n",
       "      <td>389</td>\n",
       "      <td>389</td>\n",
       "      <td>389</td>\n",
       "      <td>389</td>\n",
       "      <td>389</td>\n",
       "      <td>389</td>\n",
       "      <td>389</td>\n",
       "      <td>389</td>\n",
       "      <td>389</td>\n",
       "      <td>389</td>\n",
       "      <td>389</td>\n",
       "      <td>389</td>\n",
       "      <td>...</td>\n",
       "      <td>389</td>\n",
       "      <td>389</td>\n",
       "      <td>389</td>\n",
       "      <td>389</td>\n",
       "      <td>389</td>\n",
       "      <td>389</td>\n",
       "      <td>389</td>\n",
       "      <td>389</td>\n",
       "      <td>389</td>\n",
       "      <td>389</td>\n",
       "      <td>389</td>\n",
       "      <td>389</td>\n",
       "      <td>389</td>\n",
       "      <td>389</td>\n",
       "      <td>389</td>\n",
       "      <td>389</td>\n",
       "      <td>389</td>\n",
       "      <td>389</td>\n",
       "      <td>389</td>\n",
       "      <td>389</td>\n",
       "      <td>389</td>\n",
       "      <td>389</td>\n",
       "      <td>389</td>\n",
       "      <td>389</td>\n",
       "      <td>389</td>\n",
       "      <td>389</td>\n",
       "      <td>389</td>\n",
       "      <td>389</td>\n",
       "      <td>389</td>\n",
       "      <td>389</td>\n",
       "      <td>389</td>\n",
       "      <td>389</td>\n",
       "      <td>389</td>\n",
       "      <td>389</td>\n",
       "      <td>389</td>\n",
       "      <td>389</td>\n",
       "      <td>389</td>\n",
       "      <td>389</td>\n",
       "      <td>389</td>\n",
       "      <td>389</td>\n",
       "    </tr>\n",
       "    <tr>\n",
       "      <th>1.0</th>\n",
       "      <td>371</td>\n",
       "      <td>371</td>\n",
       "      <td>371</td>\n",
       "      <td>371</td>\n",
       "      <td>371</td>\n",
       "      <td>371</td>\n",
       "      <td>371</td>\n",
       "      <td>371</td>\n",
       "      <td>371</td>\n",
       "      <td>371</td>\n",
       "      <td>371</td>\n",
       "      <td>371</td>\n",
       "      <td>371</td>\n",
       "      <td>371</td>\n",
       "      <td>371</td>\n",
       "      <td>371</td>\n",
       "      <td>371</td>\n",
       "      <td>371</td>\n",
       "      <td>371</td>\n",
       "      <td>371</td>\n",
       "      <td>371</td>\n",
       "      <td>371</td>\n",
       "      <td>371</td>\n",
       "      <td>371</td>\n",
       "      <td>371</td>\n",
       "      <td>371</td>\n",
       "      <td>371</td>\n",
       "      <td>371</td>\n",
       "      <td>371</td>\n",
       "      <td>371</td>\n",
       "      <td>371</td>\n",
       "      <td>371</td>\n",
       "      <td>371</td>\n",
       "      <td>371</td>\n",
       "      <td>371</td>\n",
       "      <td>371</td>\n",
       "      <td>371</td>\n",
       "      <td>371</td>\n",
       "      <td>371</td>\n",
       "      <td>371</td>\n",
       "      <td>...</td>\n",
       "      <td>371</td>\n",
       "      <td>371</td>\n",
       "      <td>371</td>\n",
       "      <td>371</td>\n",
       "      <td>371</td>\n",
       "      <td>371</td>\n",
       "      <td>371</td>\n",
       "      <td>371</td>\n",
       "      <td>371</td>\n",
       "      <td>371</td>\n",
       "      <td>371</td>\n",
       "      <td>371</td>\n",
       "      <td>371</td>\n",
       "      <td>371</td>\n",
       "      <td>371</td>\n",
       "      <td>371</td>\n",
       "      <td>371</td>\n",
       "      <td>371</td>\n",
       "      <td>371</td>\n",
       "      <td>371</td>\n",
       "      <td>371</td>\n",
       "      <td>371</td>\n",
       "      <td>371</td>\n",
       "      <td>371</td>\n",
       "      <td>371</td>\n",
       "      <td>371</td>\n",
       "      <td>371</td>\n",
       "      <td>371</td>\n",
       "      <td>371</td>\n",
       "      <td>371</td>\n",
       "      <td>371</td>\n",
       "      <td>371</td>\n",
       "      <td>371</td>\n",
       "      <td>371</td>\n",
       "      <td>371</td>\n",
       "      <td>371</td>\n",
       "      <td>371</td>\n",
       "      <td>371</td>\n",
       "      <td>371</td>\n",
       "      <td>371</td>\n",
       "    </tr>\n",
       "  </tbody>\n",
       "</table>\n",
       "<p>2 rows × 300 columns</p>\n",
       "</div>"
      ],
      "text/plain": [
       "       0    1    2    3    4    5    6    ...  293  294  295  296  297  298  299\n",
       "label                                     ...                                   \n",
       "0.0    389  389  389  389  389  389  389  ...  389  389  389  389  389  389  389\n",
       "1.0    371  371  371  371  371  371  371  ...  371  371  371  371  371  371  371\n",
       "\n",
       "[2 rows x 300 columns]"
      ]
     },
     "execution_count": 23,
     "metadata": {
      "tags": []
     },
     "output_type": "execute_result"
    }
   ],
   "source": [
    "df_Train.groupby([\"label\"]).count()"
   ]
  },
  {
   "cell_type": "code",
   "execution_count": null,
   "id": "5FoNtBa0Jm29",
   "metadata": {
    "colab": {
     "base_uri": "https://localhost:8080/"
    },
    "executionInfo": {
     "elapsed": 54351,
     "status": "ok",
     "timestamp": 1620861823499,
     "user": {
      "displayName": "Sebastian Andres Cajas Ordonez",
      "photoUrl": "https://lh3.googleusercontent.com/a-/AOh14GhGDPGp9NmcvOHA91aBmMKDsRZhunR17mA_5A-qLg=s64",
      "userId": "00182127315680463116"
     },
     "user_tz": -60
    },
    "id": "5FoNtBa0Jm29",
    "outputId": "8ba98f03-d1a8-4746-aff5-2c609fc3f4f6"
   },
   "outputs": [
    {
     "name": "stdout",
     "output_type": "stream",
     "text": [
      "<class 'pandas.core.frame.DataFrame'>\n",
      "RangeIndex: 760 entries, 0 to 759\n",
      "Columns: 301 entries, 0 to label\n",
      "dtypes: float64(301)\n",
      "memory usage: 1.7 MB\n"
     ]
    }
   ],
   "source": [
    "df_Train.info()"
   ]
  },
  {
   "cell_type": "code",
   "execution_count": 74,
   "id": "AYBEfYvuImD6",
   "metadata": {
    "colab": {
     "base_uri": "https://localhost:8080/",
     "height": 282
    },
    "executionInfo": {
     "elapsed": 1264,
     "status": "ok",
     "timestamp": 1620864639394,
     "user": {
      "displayName": "Sebastian Andres Cajas Ordonez",
      "photoUrl": "https://lh3.googleusercontent.com/a-/AOh14GhGDPGp9NmcvOHA91aBmMKDsRZhunR17mA_5A-qLg=s64",
      "userId": "00182127315680463116"
     },
     "user_tz": -60
    },
    "id": "AYBEfYvuImD6",
    "outputId": "3cd98e76-ca7a-4530-d61a-60a5f9dd296f"
   },
   "outputs": [
    {
     "data": {
      "text/plain": [
       "[<matplotlib.lines.Line2D at 0x7f2ba969f190>]"
      ]
     },
     "execution_count": 74,
     "metadata": {
      "tags": []
     },
     "output_type": "execute_result"
    },
    {
     "data": {
      "image/png": "[encoded data removed]",
      "text/plain": [
       "<Figure size 432x288 with 1 Axes>"
      ]
     },
     "metadata": {
      "needs_background": "light",
      "tags": []
     },
     "output_type": "display_data"
    }
   ],
   "source": [
    "pkl_file = open('testing_t1.pkl', 'rb')\n",
    "data = pickle.load(pkl_file)\n",
    "pkl_file.close()\n",
    "X_ = data[\"data\"]\n",
    "y_ = data[\"label\"]\n",
    "\n",
    "\n",
    "plt.plot(y_)"
   ]
  },
  {
   "cell_type": "code",
   "execution_count": 75,
   "id": "Umy8UcX0InZi",
   "metadata": {
    "colab": {
     "base_uri": "https://localhost:8080/",
     "height": 398
    },
    "executionInfo": {
     "elapsed": 1079,
     "status": "ok",
     "timestamp": 1620864645248,
     "user": {
      "displayName": "Sebastian Andres Cajas Ordonez",
      "photoUrl": "https://lh3.googleusercontent.com/a-/AOh14GhGDPGp9NmcvOHA91aBmMKDsRZhunR17mA_5A-qLg=s64",
      "userId": "00182127315680463116"
     },
     "user_tz": -60
    },
    "id": "Umy8UcX0InZi",
    "outputId": "44e6e247-798b-4be4-99fc-b362831de482"
   },
   "outputs": [
    {
     "name": "stdout",
     "output_type": "stream",
     "text": [
      "(210, 300)\n",
      "(210,)\n"
     ]
    },
    {
     "name": "stderr",
     "output_type": "stream",
     "text": [
      "/usr/local/lib/python3.7/dist-packages/seaborn/distributions.py:306: UserWarning: Dataset has 0 variance; skipping density estimate.\n",
      "  warnings.warn(msg, UserWarning)\n",
      "/usr/local/lib/python3.7/dist-packages/seaborn/distributions.py:306: UserWarning: Dataset has 0 variance; skipping density estimate.\n",
      "  warnings.warn(msg, UserWarning)\n"
     ]
    },
    {
     "data": {
      "text/plain": [
       "<matplotlib.axes._subplots.AxesSubplot at 0x7f2ba92dc2d0>"
      ]
     },
     "execution_count": 75,
     "metadata": {
      "tags": []
     },
     "output_type": "execute_result"
    },
    {
     "data": {
      "image/png": "[encoded data removed]",
      "text/plain": [
       "<Figure size 432x288 with 1 Axes>"
      ]
     },
     "metadata": {
      "needs_background": "light",
      "tags": []
     },
     "output_type": "display_data"
    }
   ],
   "source": [
    "\n",
    "print(X_.shape)\n",
    "print(y_.shape)\n",
    "\n",
    "x_test = pd.DataFrame(X_)\n",
    "y_test = pd.DataFrame(y_)\n",
    "df_Test = []\n",
    "df_Test = x_test\n",
    "df_Test['label'] = y_test\n",
    "\n",
    "df_Test.groupby(\"label\").count()\n",
    "\n",
    "import seaborn as sns\n",
    "\n",
    "sns.histplot(data = df_Test, x=\"label\",hue=\"label\", color=\"skyblue\",label =\"labels\",kde=True)"
   ]
  },
  {
   "cell_type": "code",
   "execution_count": 76,
   "id": "1lyUwpyJIorM",
   "metadata": {
    "executionInfo": {
     "elapsed": 1043,
     "status": "ok",
     "timestamp": 1620864658137,
     "user": {
      "displayName": "Sebastian Andres Cajas Ordonez",
      "photoUrl": "https://lh3.googleusercontent.com/a-/AOh14GhGDPGp9NmcvOHA91aBmMKDsRZhunR17mA_5A-qLg=s64",
      "userId": "00182127315680463116"
     },
     "user_tz": -60
    },
    "id": "1lyUwpyJIorM"
   },
   "outputs": [],
   "source": [
    "# Drop rows corresponding to discarded instances\n",
    "#df_Train = df_Train[(df_Train.T != 0).any()]\n",
    "#df_Test = df_Test[(df_Test.T != 0).any()]\n",
    "\n",
    "X_training = df_Train.loc[:, df_Train.columns != 'label']\n",
    "\n",
    "X_testing  = df_Test.loc[:, df_Test.columns != 'label']\n",
    "\n",
    "svclassifier_r = SVC(C=6.37, kernel='rbf', gamma=0.86,probability=True)\n",
    "svclassifier_r.fit(X_training, df_Train[\"label\"])\n",
    "y_pred = svclassifier_r.predict(X_testing)\n",
    "\n",
    "print(\"svc acc:  \",accuracy_score(df_Test[\"label\"], y_pred))\n",
    "print(\"(SVC) - AUC: \", roc_auc_score(df_Test[\"label\"], y_pred))\n"
   ]
  },
  {
   "cell_type": "code",
   "execution_count": 67,
   "id": "oaSTYG2tJ4oi",
   "metadata": {
    "executionInfo": {
     "elapsed": 730,
     "status": "ok",
     "timestamp": 1620864556648,
     "user": {
      "displayName": "Sebastian Andres Cajas Ordonez",
      "photoUrl": "https://lh3.googleusercontent.com/a-/AOh14GhGDPGp9NmcvOHA91aBmMKDsRZhunR17mA_5A-qLg=s64",
      "userId": "00182127315680463116"
     },
     "user_tz": -60
    },
    "id": "oaSTYG2tJ4oi"
   },
   "outputs": [],
   "source": [
    "discard_real = 9\n",
    "discard_fake = 0\n",
    "# Add the real test instances discarded\n",
    "if discard_real > 0 :\n",
    "  real_lab = pd.DataFrame(np.zeros((discard_real, 1)))\n",
    "  y_test = pd.concat([df_Test[\"label\"], real_lab], ignore_index=True)\n",
    "\n",
    "# Add the fake test instances discarded\n",
    "if discard_fake > 0 : \n",
    "  fake_lab = pd.DataFrame(np.ones((discard_fake, 1)))\n",
    "  y_test = pd.concat([df_Test[\"label\"], fake_lab], ignore_index=True)\n",
    "\n",
    "# Predict all discarded as real\n",
    "tot_dis = discard_fake + discard_real\n",
    "y_pred = np.concatenate([y_pred, np.zeros((tot_dis,))])"
   ]
  },
  {
   "cell_type": "code",
   "execution_count": 60,
   "id": "sMj3BbrCJ6SQ",
   "metadata": {
    "colab": {
     "base_uri": "https://localhost:8080/"
    },
    "executionInfo": {
     "elapsed": 767,
     "status": "ok",
     "timestamp": 1620864512009,
     "user": {
      "displayName": "Sebastian Andres Cajas Ordonez",
      "photoUrl": "https://lh3.googleusercontent.com/a-/AOh14GhGDPGp9NmcvOHA91aBmMKDsRZhunR17mA_5A-qLg=s64",
      "userId": "00182127315680463116"
     },
     "user_tz": -60
    },
    "id": "sMj3BbrCJ6SQ",
    "outputId": "97109af6-13f5-49c5-c8e0-a6dccf16a876"
   },
   "outputs": [
    {
     "name": "stdout",
     "output_type": "stream",
     "text": [
      "svc acc:   0.7808219178082192\n",
      "(SVC) - AUC:  0.7951837556637019\n"
     ]
    }
   ],
   "source": [
    "print(\"svc acc:  \",accuracy_score(y_test, y_pred))\n",
    "print(\"(SVC) - AUC: \", roc_auc_score(y_test, y_pred))"
   ]
  },
  {
   "cell_type": "code",
   "execution_count": 79,
   "id": "9Qx86IoTCKfW",
   "metadata": {
    "executionInfo": {
     "elapsed": 572,
     "status": "ok",
     "timestamp": 1620864684454,
     "user": {
      "displayName": "Sebastian Andres Cajas Ordonez",
      "photoUrl": "https://lh3.googleusercontent.com/a-/AOh14GhGDPGp9NmcvOHA91aBmMKDsRZhunR17mA_5A-qLg=s64",
      "userId": "00182127315680463116"
     },
     "user_tz": -60
    },
    "id": "9Qx86IoTCKfW"
   },
   "outputs": [],
   "source": [
    "probs1_train = svclassifier_r.predict_proba(X_training)[:, 1]\n",
    "probs1_test = svclassifier_r.predict_proba(X_testing)[:, 1]"
   ]
  },
  {
   "cell_type": "code",
   "execution_count": 55,
   "id": "NjdvsHBGB_Ss",
   "metadata": {
    "colab": {
     "base_uri": "https://localhost:8080/",
     "height": 295
    },
    "executionInfo": {
     "elapsed": 1112,
     "status": "ok",
     "timestamp": 1620864332231,
     "user": {
      "displayName": "Sebastian Andres Cajas Ordonez",
      "photoUrl": "https://lh3.googleusercontent.com/a-/AOh14GhGDPGp9NmcvOHA91aBmMKDsRZhunR17mA_5A-qLg=s64",
      "userId": "00182127315680463116"
     },
     "user_tz": -60
    },
    "id": "NjdvsHBGB_Ss",
    "outputId": "9ea81cde-614b-4554-b808-b0de8aaaba88"
   },
   "outputs": [
    {
     "data": {
      "image/png": "[encoded data removed]",
      "text/plain": [
       "<Figure size 432x288 with 1 Axes>"
      ]
     },
     "metadata": {
      "needs_background": "light",
      "tags": []
     },
     "output_type": "display_data"
    }
   ],
   "source": [
    "\n",
    "from sklearn.metrics import roc_curve, auc\n",
    "import sklearn.metrics as metrics\n",
    "\n",
    "fpr_final1_train, tpr_final1_train, threshold_final1_train    = metrics.roc_curve( df_Train[\"label\"], probs1_train)\n",
    "\n",
    "plt.plot([0,1],[0,1], 'k--')\n",
    "plt.plot(fpr_final1_train, tpr_final1_train, 'b', label   = 'AUC ensembling model 1 = %0.2f' % roc_auc_score( df_Train[\"label\"], probs1_train))\n",
    "\n",
    "plt.legend(loc = 'lower right')\n",
    "plt.xlim([0, 1])\n",
    "plt.ylim([0, 1])\n",
    "plt.ylabel('True Positive Rate')\n",
    "plt.xlabel('False Positive Rate')\n",
    "plt.title('Receiver Operating Characteristic')\n",
    "plt.show()"
   ]
  },
  {
   "cell_type": "code",
   "execution_count": 77,
   "id": "BhP-kfH1DfI5",
   "metadata": {
    "colab": {
     "base_uri": "https://localhost:8080/",
     "height": 419
    },
    "executionInfo": {
     "elapsed": 567,
     "status": "ok",
     "timestamp": 1620864663151,
     "user": {
      "displayName": "Sebastian Andres Cajas Ordonez",
      "photoUrl": "https://lh3.googleusercontent.com/a-/AOh14GhGDPGp9NmcvOHA91aBmMKDsRZhunR17mA_5A-qLg=s64",
      "userId": "00182127315680463116"
     },
     "user_tz": -60
    },
    "id": "BhP-kfH1DfI5",
    "outputId": "f1742295-7dc2-4f78-c35d-e5c5bec1fe2a"
   },
   "outputs": [
    {
     "data": {
      "text/html": [
       "<div>\n",
       "<style scoped>\n",
       "    .dataframe tbody tr th:only-of-type {\n",
       "        vertical-align: middle;\n",
       "    }\n",
       "\n",
       "    .dataframe tbody tr th {\n",
       "        vertical-align: top;\n",
       "    }\n",
       "\n",
       "    .dataframe thead th {\n",
       "        text-align: right;\n",
       "    }\n",
       "</style>\n",
       "<table border=\"1\" class=\"dataframe\">\n",
       "  <thead>\n",
       "    <tr style=\"text-align: right;\">\n",
       "      <th></th>\n",
       "      <th>0</th>\n",
       "    </tr>\n",
       "  </thead>\n",
       "  <tbody>\n",
       "    <tr>\n",
       "      <th>0</th>\n",
       "      <td>0.0</td>\n",
       "    </tr>\n",
       "    <tr>\n",
       "      <th>1</th>\n",
       "      <td>0.0</td>\n",
       "    </tr>\n",
       "    <tr>\n",
       "      <th>2</th>\n",
       "      <td>0.0</td>\n",
       "    </tr>\n",
       "    <tr>\n",
       "      <th>3</th>\n",
       "      <td>0.0</td>\n",
       "    </tr>\n",
       "    <tr>\n",
       "      <th>4</th>\n",
       "      <td>0.0</td>\n",
       "    </tr>\n",
       "    <tr>\n",
       "      <th>...</th>\n",
       "      <td>...</td>\n",
       "    </tr>\n",
       "    <tr>\n",
       "      <th>205</th>\n",
       "      <td>1.0</td>\n",
       "    </tr>\n",
       "    <tr>\n",
       "      <th>206</th>\n",
       "      <td>1.0</td>\n",
       "    </tr>\n",
       "    <tr>\n",
       "      <th>207</th>\n",
       "      <td>0.0</td>\n",
       "    </tr>\n",
       "    <tr>\n",
       "      <th>208</th>\n",
       "      <td>1.0</td>\n",
       "    </tr>\n",
       "    <tr>\n",
       "      <th>209</th>\n",
       "      <td>1.0</td>\n",
       "    </tr>\n",
       "  </tbody>\n",
       "</table>\n",
       "<p>210 rows × 1 columns</p>\n",
       "</div>"
      ],
      "text/plain": [
       "       0\n",
       "0    0.0\n",
       "1    0.0\n",
       "2    0.0\n",
       "3    0.0\n",
       "4    0.0\n",
       "..   ...\n",
       "205  1.0\n",
       "206  1.0\n",
       "207  0.0\n",
       "208  1.0\n",
       "209  1.0\n",
       "\n",
       "[210 rows x 1 columns]"
      ]
     },
     "execution_count": 77,
     "metadata": {
      "tags": []
     },
     "output_type": "execute_result"
    }
   ],
   "source": [
    "y_test"
   ]
  },
  {
   "cell_type": "code",
   "execution_count": 82,
   "id": "xV07rg7rDHEZ",
   "metadata": {
    "colab": {
     "base_uri": "https://localhost:8080/",
     "height": 295
    },
    "executionInfo": {
     "elapsed": 679,
     "status": "ok",
     "timestamp": 1620864766376,
     "user": {
      "displayName": "Sebastian Andres Cajas Ordonez",
      "photoUrl": "https://lh3.googleusercontent.com/a-/AOh14GhGDPGp9NmcvOHA91aBmMKDsRZhunR17mA_5A-qLg=s64",
      "userId": "00182127315680463116"
     },
     "user_tz": -60
    },
    "id": "xV07rg7rDHEZ",
    "outputId": "a1eecd2d-80b0-4321-f82c-f50679792c17"
   },
   "outputs": [
    {
     "data": {
      "image/png": "[encoded data removed]",
      "text/plain": [
       "<Figure size 432x288 with 1 Axes>"
      ]
     },
     "metadata": {
      "needs_background": "light",
      "tags": []
     },
     "output_type": "display_data"
    }
   ],
   "source": [
    "\n",
    "from sklearn.metrics import roc_curve, auc\n",
    "import sklearn.metrics as metrics\n",
    "\n",
    "fpr_final1_train, tpr_final1_train, threshold_final1_train    = metrics.roc_curve( y_test, probs1_test)\n",
    "\n",
    "plt.plot([0,1],[0,1], 'k--')\n",
    "plt.plot(fpr_final1_train, tpr_final1_train, 'b', label   = 'AUC ensembling model 1' % roc_auc_score( y_test, probs1_test))\n",
    "\n",
    "plt.legend(loc = 'lower right')\n",
    "plt.xlim([0, 1])\n",
    "plt.ylim([0, 1])\n",
    "plt.ylabel('True Positive Rate')\n",
    "plt.xlabel('False Positive Rate')\n",
    "plt.title('Receiver Operating Characteristic')\n",
    "plt.show()"
   ]
  },
  {
   "cell_type": "code",
   "execution_count": null,
   "id": "-_7L2QO9W84G",
   "metadata": {
    "colab": {
     "base_uri": "https://localhost:8080/"
    },
    "executionInfo": {
     "elapsed": 55542,
     "status": "ok",
     "timestamp": 1620861824870,
     "user": {
      "displayName": "Sebastian Andres Cajas Ordonez",
      "photoUrl": "https://lh3.googleusercontent.com/a-/AOh14GhGDPGp9NmcvOHA91aBmMKDsRZhunR17mA_5A-qLg=s64",
      "userId": "00182127315680463116"
     },
     "user_tz": -60
    },
    "id": "-_7L2QO9W84G",
    "outputId": "19dbd541-dfe3-40f9-9974-0f0bf592bd1a"
   },
   "outputs": [
    {
     "name": "stdout",
     "output_type": "stream",
     "text": [
      "(C)(6.0) - Accuracy: 0.7808219178082192  AUC:0.7951837556637019\n",
      "(C)(6.1) - Accuracy: 0.7808219178082192  AUC:0.7951837556637019\n",
      "(C)(6.199999999999999) - Accuracy: 0.7808219178082192  AUC:0.7951837556637019\n",
      "(C)(6.299999999999999) - Accuracy: 0.7808219178082192  AUC:0.7951837556637019\n",
      "(C)(6.399999999999999) - Accuracy: 0.7808219178082192  AUC:0.7951837556637019\n",
      "(C)(6.499999999999998) - Accuracy: 0.7808219178082192  AUC:0.7951837556637019\n",
      "(C)(6.599999999999998) - Accuracy: 0.7808219178082192  AUC:0.7951837556637019\n",
      "(C)(6.6999999999999975) - Accuracy: 0.7808219178082192  AUC:0.7951837556637019\n",
      "(C)(6.799999999999997) - Accuracy: 0.7808219178082192  AUC:0.7951837556637019\n",
      "(C)(6.899999999999997) - Accuracy: 0.7808219178082192  AUC:0.7951837556637019\n"
     ]
    }
   ],
   "source": [
    "for i in np.arange(6, 7, 0.1):\n",
    "  X_training = df_Train.loc[:, df_Train.columns != 'label']\n",
    "\n",
    "  X_testing  = df_Test.loc[:, df_Test.columns != 'label']\n",
    "\n",
    "  svclassifier_r = SVC(C=i, kernel='rbf', gamma=0.86)\n",
    "  svclassifier_r.fit(X_training, df_Train[\"label\"])\n",
    "  y_pred = svclassifier_r.predict(X_testing)\n",
    "\n",
    "    # Add the real test instances discarded\n",
    "  if discard_real > 0 :\n",
    "    real_lab = pd.DataFrame(np.zeros((discard_real, 1)))\n",
    "    y_test = pd.concat([df_Test[\"label\"], real_lab], ignore_index=True)\n",
    "\n",
    "  # Add the fake test instances discarded\n",
    "  if discard_fake > 0 : \n",
    "    fake_lab = pd.DataFrame(np.ones((discard_fake, 1)))\n",
    "    y_test = pd.concat([df_Test[\"label\"], fake_lab], ignore_index=True)\n",
    "\n",
    "  # Predict all discarded as real\n",
    "  tot_dis = discard_fake + discard_real\n",
    "  y_pred = np.concatenate([y_pred, np.zeros((tot_dis,))])\n",
    "\n",
    "  print('(C)({}) - Accuracy: {}  AUC:{}'.format(i, accuracy_score(y_test, y_pred),roc_auc_score(y_test, y_pred)))"
   ]
  },
  {
   "cell_type": "code",
   "execution_count": null,
   "id": "YWX4R496RiZR",
   "metadata": {
    "colab": {
     "base_uri": "https://localhost:8080/"
    },
    "executionInfo": {
     "elapsed": 58936,
     "status": "ok",
     "timestamp": 1620861828290,
     "user": {
      "displayName": "Sebastian Andres Cajas Ordonez",
      "photoUrl": "https://lh3.googleusercontent.com/a-/AOh14GhGDPGp9NmcvOHA91aBmMKDsRZhunR17mA_5A-qLg=s64",
      "userId": "00182127315680463116"
     },
     "user_tz": -60
    },
    "id": "YWX4R496RiZR",
    "outputId": "6aa1e3a5-a7fb-4c06-fb4a-acfe2f4fdc12"
   },
   "outputs": [
    {
     "name": "stdout",
     "output_type": "stream",
     "text": [
      "Index([  0,   1,   2,   3,   4,   5,   6,   7,   8,   9,\n",
      "       ...\n",
      "       290, 291, 292, 293, 294, 295, 296, 297, 298, 299],\n",
      "      dtype='object', length=300)\n",
      "6.899999999999997 - Accuracy: 0.7671232876712328  AUC:0.7817586843430105\n"
     ]
    }
   ],
   "source": [
    "from sklearn.tree  import DecisionTreeClassifier\n",
    "from sklearn.ensemble import RandomForestClassifier\n",
    "\n",
    "covariates1 = X_training.columns#[~X.columns.isin(['L1','L2','L3','L4','L5','L6','L7','L8','L9'])]\n",
    "print(covariates1)\n",
    "\n",
    "clf_rf = RandomForestClassifier(n_estimators=600, max_depth=7, random_state=0)\n",
    "\n",
    "clf_rf.fit(X_training, df_Train[\"label\"])\n",
    "\n",
    "y_pred = clf_rf.predict(X_testing)\n",
    "\n",
    "discard_real = 9\n",
    "discard_fake = 0\n",
    "# Add the real test instances discarded\n",
    "if discard_real > 0 :\n",
    "  real_lab = pd.DataFrame(np.zeros((discard_real, 1)))\n",
    "  y_test = pd.concat([df_Test[\"label\"], real_lab], ignore_index=True)\n",
    "\n",
    "# Add the fake test instances discarded\n",
    "if discard_fake > 0 : \n",
    "  fake_lab = pd.DataFrame(np.ones((discard_fake, 1)))\n",
    "  y_test = pd.concat([df_Test[\"label\"], fake_lab], ignore_index=True)\n",
    "\n",
    "# Predict all discarded as real\n",
    "tot_dis = discard_fake + discard_real\n",
    "y_pred = np.concatenate([y_pred, np.zeros((tot_dis,))])\n",
    "\n",
    "print('{} - Accuracy: {}  AUC:{}'.format(i, accuracy_score(y_test, y_pred),roc_auc_score(y_test, y_pred)))"
   ]
  },
  {
   "cell_type": "code",
   "execution_count": null,
   "id": "0OImuCSIR5H2",
   "metadata": {
    "colab": {
     "base_uri": "https://localhost:8080/",
     "height": 444
    },
    "executionInfo": {
     "elapsed": 59821,
     "status": "ok",
     "timestamp": 1620861829201,
     "user": {
      "displayName": "Sebastian Andres Cajas Ordonez",
      "photoUrl": "https://lh3.googleusercontent.com/a-/AOh14GhGDPGp9NmcvOHA91aBmMKDsRZhunR17mA_5A-qLg=s64",
      "userId": "00182127315680463116"
     },
     "user_tz": -60
    },
    "id": "0OImuCSIR5H2",
    "outputId": "54078ab9-a951-44c1-f7f7-7746e09dbfe2"
   },
   "outputs": [
    {
     "data": {
      "image/png": "[encoded data removed]",
      "text/plain": [
       "<Figure size 864x504 with 1 Axes>"
      ]
     },
     "metadata": {
      "needs_background": "light",
      "tags": []
     },
     "output_type": "display_data"
    }
   ],
   "source": [
    "importances = clf_rf.feature_importances_\n",
    "puntajes = []\n",
    "for i,v in enumerate(importances):\n",
    "  #aux = [i,100*v]\n",
    "  puntajes.append(100*v)\n",
    "\t#print('Feature: %0d, Score: %.5f' % (i,100*v))\n",
    "  \n",
    "# plot feature importance\n",
    "std = np.std([tree.feature_importances_ for tree in clf_rf.estimators_],\n",
    "             axis=0)\n",
    "indices = np.argsort(importances)\n",
    "\n",
    "# Plot the impurity-based feature importances of the forest\n",
    "plt.figure(figsize=(12,7))\n",
    "plt.title(\"Feature importances\")\n",
    "plt.barh(X_training[covariates1].columns[indices], 100*importances[indices], yerr=std[indices], align=\"center\")\n",
    "plt.show()"
   ]
  },
  {
   "cell_type": "code",
   "execution_count": null,
   "id": "TWsqBNXPTTCM",
   "metadata": {
    "id": "TWsqBNXPTTCM"
   },
   "outputs": [],
   "source": [
    "selecto = []\n",
    "for i in range(300):\n",
    "\n",
    "  aux = puntajes[i]>0.01\n",
    "  if aux:\n",
    "    selecto.append(i)"
   ]
  },
  {
   "cell_type": "code",
   "execution_count": null,
   "id": "VSxxfmgTKTCs",
   "metadata": {
    "colab": {
     "base_uri": "https://localhost:8080/"
    },
    "executionInfo": {
     "elapsed": 59795,
     "status": "ok",
     "timestamp": 1620861829204,
     "user": {
      "displayName": "Sebastian Andres Cajas Ordonez",
      "photoUrl": "https://lh3.googleusercontent.com/a-/AOh14GhGDPGp9NmcvOHA91aBmMKDsRZhunR17mA_5A-qLg=s64",
      "userId": "00182127315680463116"
     },
     "user_tz": -60
    },
    "id": "VSxxfmgTKTCs",
    "outputId": "4bcf20a3-b6ab-4976-eb16-cbc464bb4df2"
   },
   "outputs": [
    {
     "name": "stdout",
     "output_type": "stream",
     "text": [
      "X (760, 299) y (760,)\n",
      "X_t (210, 299) y_ (210,)\n",
      "svc acc:   0.7714285714285715\n",
      "(SVC) - AUC:  0.7790898355890634\n"
     ]
    }
   ],
   "source": [
    "x_train = X_training.iloc[:, selecto]\n",
    "y_train = df_Train[\"label\"]\n",
    "\n",
    "x_test = df_Test.iloc[:, selecto]\n",
    "#x_test = input_test.iloc[:, [2, 6, 7, 8, 9]]\n",
    "y_test = df_Test[\"label\"]\n",
    "\n",
    "svclassifier_r = SVC(C=6.37, kernel='rbf', gamma=0.86)\n",
    "svclassifier_r.fit(x_train, y_train)\n",
    "\n",
    "\n",
    "y_pred = svclassifier_r.predict(x_test)\n",
    "\n",
    "\n",
    "print(\"X {} y {}\".format(x_train.shape,y_train.shape))\n",
    "print(\"X_t {} y_ {}\".format(x_test.shape,y_test.shape))\n",
    "\n",
    "\n",
    "print(\"svc acc:  \",accuracy_score(y_test, y_pred))\n",
    "print(\"(SVC) - AUC: \", roc_auc_score(y_test, y_pred))"
   ]
  },
  {
   "cell_type": "code",
   "execution_count": null,
   "id": "Za6L6YZ4MaK6",
   "metadata": {
    "colab": {
     "base_uri": "https://localhost:8080/"
    },
    "executionInfo": {
     "elapsed": 59746,
     "status": "ok",
     "timestamp": 1620861829206,
     "user": {
      "displayName": "Sebastian Andres Cajas Ordonez",
      "photoUrl": "https://lh3.googleusercontent.com/a-/AOh14GhGDPGp9NmcvOHA91aBmMKDsRZhunR17mA_5A-qLg=s64",
      "userId": "00182127315680463116"
     },
     "user_tz": -60
    },
    "id": "Za6L6YZ4MaK6",
    "outputId": "d60d2004-295b-4218-f5dc-12fe9445a34d"
   },
   "outputs": [
    {
     "name": "stdout",
     "output_type": "stream",
     "text": [
      "y_pred (219,) y_est (219, 1)\n",
      "svc acc:   0.7808219178082192\n",
      "(SVC) - AUC:  0.7951837556637019\n"
     ]
    }
   ],
   "source": [
    "discard_real = 9\n",
    "discard_fake = 0\n",
    "# Add the real test instances discarded\n",
    "if discard_real > 0 :\n",
    "  real_lab = pd.DataFrame(np.zeros((discard_real, 1)))\n",
    "  y_test = pd.concat([df_Test[\"label\"], real_lab], ignore_index=True)\n",
    "\n",
    "# Add the fake test instances discarded\n",
    "if discard_fake > 0 : \n",
    "  fake_lab = pd.DataFrame(np.ones((discard_fake, 1)))\n",
    "  y_test = pd.concat([df_Test[\"label\"], fake_lab], ignore_index=True)\n",
    "\n",
    "# Predict all discarded as real\n",
    "tot_dis = discard_fake + discard_real\n",
    "y_pred = np.concatenate([y_pred, np.zeros((tot_dis,))])\n",
    "\n",
    "\n",
    "print(\"y_pred {} y_est {}\".format(y_pred.shape,y_test.shape))\n",
    "\n",
    "print(\"svc acc:  \",accuracy_score(y_test, y_pred))\n",
    "print(\"(SVC) - AUC: \", roc_auc_score(y_test, y_pred))"
   ]
  }
 ],
 "metadata": {
  "colab": {
   "collapsed_sections": [],
   "name": "Task_1_Model_2.ipynb",
   "provenance": [],
   "toc_visible": true
  },
  "kernelspec": {
   "display_name": "Python 3",
   "language": "python",
   "name": "python3"
  },
  "language_info": {
   "codemirror_mode": {
    "name": "ipython",
    "version": 3
   },
   "file_extension": ".py",
   "mimetype": "text/x-python",
   "name": "python",
   "nbconvert_exporter": "python",
   "pygments_lexer": "ipython3",
   "version": "3.8.5"
  }
 },
 "nbformat": 4,
 "nbformat_minor": 5
}
